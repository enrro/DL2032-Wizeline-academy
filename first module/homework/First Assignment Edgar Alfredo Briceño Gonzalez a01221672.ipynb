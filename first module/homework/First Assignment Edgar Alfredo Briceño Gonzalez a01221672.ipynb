{
 "cells": [
  {
   "cell_type": "markdown",
   "metadata": {},
   "source": [
    "# Welcome\n",
    "\n",
    "## Overview\n",
    "During this session, you will walk through the work required to define a data science project and some recommendations for the initial approach to data. \n",
    "\n",
    "\n",
    "The goal is to perform Exploratory Data Analysis (EDA). First, you will need to help to define the project and perform data auditing. The EDA in this section will be enough for you to determine if you can accomplish the project with the information provided.\n",
    "<img src='./Images/HomeScreen.png' style=\"width:150px;\"></img>"
   ]
  },
  {
   "cell_type": "markdown",
   "metadata": {},
   "source": [
    "## Pedometer App\n",
    "As a new Data Scientist in the Data Science Team you have been asked to improve a pedometer app. The app's ultimate goal is to drive the user to a healthier lifestyle.\n",
    "\n",
    "After downloading and testing the app, you notice that you need to start the recording manually, and that the only output to the user is the time and distance traveled.\n",
    "\n",
    "Then you meet with the development team who tells you that they extract over 500 different features for you to use from the accelerometer and gyroscope information. They believe that *more data is better*.\n",
    "\n",
    "\n",
    "<img src='./Images/TrackScreen.png' style=\"width:150px;\"></img>"
   ]
  },
  {
   "cell_type": "markdown",
   "metadata": {},
   "source": [
    "### Task Definition\n",
    "Narrow down into actionable items the following goal: *Drive the user to a healthier lifestyle*.\n",
    "\n",
    "Assume you have several formal and informal conversations with the stakeholders. After a lot of ideas and examples, you finally agree that you will enhance the activity tracker by providing the user with notifications and a dashboard summary showing the time spent being active and passive, resulting in suggestions to improve their lifestyle. Thus, you agree that the app will automatically record the following activities:\n",
    "    - Active:\n",
    "        - Walking\n",
    "        - Walking upstairs\n",
    "        - Walking downstairs\n",
    "        - Running\n",
    "        - Cycling\n",
    "    - Resting\n",
    "        - Sitting\n",
    "        - Laying while awake\n",
    "        - Laying while sleeping\n",
    "        - Standing\n",
    "        - Driving\n",
    "        \n",
    "<img src='./Images/DashboardIdea.png' style=\"width:150px;\"></img>"
   ]
  },
  {
   "cell_type": "markdown",
   "metadata": {},
   "source": [
    "### Tackling the problem\n",
    "Move from a simple app that only gives the time and distance to an app that does Human Activity Recognition. Fragment this goal into small actionable items and iterate them, so you can rectify assumptions and include unexpected challenges.\n",
    "\n",
    "You must:\n",
    "- Record continuously by updating the app so it no longer requires activation.\n",
    "- Verify the prediction of active and resting activities given the available information.\n",
    "- Iterate the information recorded by the app and the verification to allow said predictions.\n",
    "- Integrate the prediction algorithm into the app.\n",
    "- Display activity trends in an engaging way.\n",
    "\n"
   ]
  },
  {
   "cell_type": "markdown",
   "metadata": {},
   "source": [
    "## Data Assesment and evaluation\n",
    "\n",
    "Good data scientists adhere to the garbage in, garbage out view of the world.\n",
    "\n",
    "The data assessment and evaluation is a crucial stage for any Data Science project. During this stage you will verify:\n",
    "- Data availability\n",
    "- Data completion\n",
    "- Data processing requirements\n",
    "- Data usefulness\n",
    "\n",
    "As you start to verify the prediction of resting and active activities given the available information, you have already started to do such verifications.\n",
    "\n",
    "After another round of meetings, you gain access to a data set of an experiment the developers performed. That experiment involved 30 people (subjects), performing 6 activities (Walking, Walking upstairs, Walking downstairs, Sitting, Standing, and Lying). The features in this experiment are the result of data transformations on the gyroscope and accelerometer output.\n",
    "\n",
    "With this data set you know that you won't be able to predict:\n",
    "- Running\n",
    "- Cycling\n",
    "- Lying while sleeping\n",
    "- Driving\n"
   ]
  },
  {
   "cell_type": "code",
   "execution_count": 1,
   "metadata": {},
   "outputs": [],
   "source": [
    "%matplotlib inline\n",
    "import collections\n",
    "import os, requests, zipfile, io\n",
    "import numpy as np\n",
    "import pandas as pd\n",
    "from itertools import islice\n",
    "import plotly.graph_objs as go\n",
    "import plotly.plotly as py\n",
    "import pandas as pd\n",
    "import matplotlib.pyplot as plt\n",
    "import pprint as pp\n",
    "from pandas.tools.plotting import scatter_matrix\n",
    "import eda_functions\n",
    "from IPython.display import Image\n",
    "\n",
    "if not os.path.isdir('./Data/UCI HAR Dataset/'):\n",
    "    HAR_URL = 'https://archive.ics.uci.edu/ml/machine-learning-databases/00240/UCI%20HAR%20Dataset.zip'\n",
    "    req = requests.get(HAR_URL)\n",
    "    compressed = zipfile.ZipFile(io.BytesIO(req.content))\n",
    "    compressed.extractall('./Data/')"
   ]
  },
  {
   "cell_type": "markdown",
   "metadata": {},
   "source": [
    "## Confirm the provided information (Audit)\n",
    "\n",
    "\n",
    "The data was manipulated, which may lead to several errors. These errors might be present in the form of:\n",
    "- Misclassification (e.g. of the activities, the subjects, or the data)\n",
    "- Incompleteness\n",
    "- Incoherence (e.g. date format “YYYY-mm-DD HH:MM:SS” where “SS” (seconds) is over 60)\n",
    "- Errors in using statistics (e.g. like the mean or in other transformations)\n",
    "\n",
    "Due to:\n",
    "- Dataset versioning (e.g. we’ve been provided with outdated information)\n",
    "- Language and terminology discrepancies\n",
    "- Undocumented manipulations\n",
    "- Data format mismatch\n"
   ]
  },
  {
   "cell_type": "markdown",
   "metadata": {},
   "source": [
    "### Explore within the files, folder structure and content\n",
    "Take a look at the directories to see what is happening. Use `os.listdir(<directory>)` to see what is in the recently created “UCI HAR Dataset” directory.\n",
    "\n",
    "Use the `pprint` or `print` functions to see the output."
   ]
  },
  {
   "cell_type": "code",
   "execution_count": 3,
   "metadata": {},
   "outputs": [
    {
     "name": "stdout",
     "output_type": "stream",
     "text": [
      "UCI HAR Dataset\n",
      "['README.txt', '.DS_Store', 'train', 'activity_labels.txt', 'features.txt', 'features_info.txt', 'test']\n",
      "TRAIN FOLDER\n",
      "['Inertial Signals', 'X_train.txt', 'subject_train.txt', 'y_train.txt']\n",
      "TEST FOLDER\n",
      "['X_test.txt', 'Inertial Signals', 'y_test.txt', 'subject_test.txt']\n"
     ]
    }
   ],
   "source": [
    "print('UCI HAR Dataset')\n",
    "print(os.listdir('./Data/UCI HAR Dataset/'))\n",
    "print('TRAIN FOLDER')\n",
    "print(os.listdir('./Data/UCI HAR Dataset/train'))\n",
    "print('TEST FOLDER')\n",
    "print(os.listdir('./Data/UCI HAR Dataset/test'))"
   ]
  },
  {
   "cell_type": "markdown",
   "metadata": {},
   "source": [
    "### Train and test folders\n",
    "\n",
    "Currently, you have:\n",
    "- 4 different text files in the beginning, which seem to be data dictionaries/labels for the internal datasets.\n",
    "- 2 folders with similar content: Test and Train.\n",
    "    - Inside the folders, you see two .txt files: X and Y. X is used to describe the independent variables and Y is the dependent variable, which is the objective function; in other words, the activity categorization for each combination of X’s variables.\n",
    "    \n",
    "Why would **Test** and **Train** have the same structure?\n"
   ]
  },
  {
   "cell_type": "markdown",
   "metadata": {},
   "source": [
    "## Confirm the provided information (Audit part 2)\n",
    "\n",
    "Remember that the data was manipulated which might lead to several errors. Look at the number of subjects, features, and activities to confirm they are what you’ve been told, and see where the difference come from otherwise. \n",
    "\n",
    "### Load the data\n",
    "\n",
    "After exploring the file and folder structure, load the data for its consumption.\n"
   ]
  },
  {
   "cell_type": "code",
   "execution_count": 4,
   "metadata": {},
   "outputs": [],
   "source": [
    "#load activities and set them to their meanings\n",
    "activity_label = {int(key): value for key, value in eda_functions.get_key_value_pairs('./Data/UCI HAR Dataset/activity_labels.txt')}\n",
    "activities = pd.read_table('./Data/UCI HAR Dataset/train/y_train.txt', header=None, delim_whitespace=True)\n",
    "activities.columns = ['activity']\n",
    "activities = activities.replace({'activity':activity_label})\n",
    "\n",
    "#load subjects\n",
    "subjects = [int(line.strip()) for line in open('./Data/UCI HAR Dataset/train/subject_train.txt','r')]\n",
    "\n",
    "#load the feature names\n",
    "features = np.array([line.strip().split(' ')[1] for line in open('./Data/UCI HAR Dataset/features.txt', 'r')])\n",
    "\n",
    "#load the observations\n",
    "observations= pd.read_table('./Data/UCI HAR Dataset/train/X_train.txt', header=None, delim_whitespace=True, names=features)\n",
    "observations['subject'] = subjects\n",
    "observations['activities'] = activities"
   ]
  },
  {
   "cell_type": "markdown",
   "metadata": {},
   "source": [
    "### Brief look at the data\n",
    "Now execute simple commands to get the counts and a very summarized view of the data."
   ]
  },
  {
   "cell_type": "markdown",
   "metadata": {},
   "source": [
    "#### Activity"
   ]
  },
  {
   "cell_type": "code",
   "execution_count": 5,
   "metadata": {},
   "outputs": [
    {
     "data": {
      "text/plain": [
       "Counter({'LAYING': 1407,\n",
       "         'SITTING': 1286,\n",
       "         'STANDING': 1374,\n",
       "         'WALKING': 1226,\n",
       "         'WALKING_DOWNSTAIRS': 986,\n",
       "         'WALKING_UPSTAIRS': 1073})"
      ]
     },
     "execution_count": 5,
     "metadata": {},
     "output_type": "execute_result"
    }
   ],
   "source": [
    "collections.Counter(activities.activity)"
   ]
  },
  {
   "cell_type": "markdown",
   "metadata": {},
   "source": [
    "#### Subjects"
   ]
  },
  {
   "cell_type": "code",
   "execution_count": 6,
   "metadata": {},
   "outputs": [
    {
     "data": {
      "text/plain": [
       "Counter({1: 347,\n",
       "         3: 341,\n",
       "         5: 302,\n",
       "         6: 325,\n",
       "         7: 308,\n",
       "         8: 281,\n",
       "         11: 316,\n",
       "         14: 323,\n",
       "         15: 328,\n",
       "         16: 366,\n",
       "         17: 368,\n",
       "         19: 360,\n",
       "         21: 408,\n",
       "         22: 321,\n",
       "         23: 372,\n",
       "         25: 409,\n",
       "         26: 392,\n",
       "         27: 376,\n",
       "         28: 382,\n",
       "         29: 344,\n",
       "         30: 383})"
      ]
     },
     "execution_count": 6,
     "metadata": {},
     "output_type": "execute_result"
    }
   ],
   "source": [
    "collections.Counter(subjects)"
   ]
  },
  {
   "cell_type": "markdown",
   "metadata": {},
   "source": [
    "#### predictors/features\n"
   ]
  },
  {
   "cell_type": "code",
   "execution_count": 7,
   "metadata": {},
   "outputs": [
    {
     "name": "stdout",
     "output_type": "stream",
     "text": [
      "561\n",
      "['tBodyAcc-mean()-Y' 'tBodyAcc-mean()-Z' 'tBodyAcc-std()-X'\n",
      " 'tBodyAcc-std()-Y']\n"
     ]
    }
   ],
   "source": [
    "print(features.size)\n",
    "print(features[1:5])"
   ]
  },
  {
   "cell_type": "markdown",
   "metadata": {},
   "source": [
    "#### observations"
   ]
  },
  {
   "cell_type": "code",
   "execution_count": 8,
   "metadata": {},
   "outputs": [
    {
     "name": "stdout",
     "output_type": "stream",
     "text": [
      "   tBodyAcc-mean()-X  tBodyAcc-mean()-Y  tBodyAcc-mean()-Z  tBodyAcc-std()-X  \\\n",
      "0           0.288585          -0.020294          -0.132905         -0.995279   \n",
      "1           0.278419          -0.016411          -0.123520         -0.998245   \n",
      "2           0.279653          -0.019467          -0.113462         -0.995380   \n",
      "3           0.279174          -0.026201          -0.123283         -0.996091   \n",
      "4           0.276629          -0.016570          -0.115362         -0.998139   \n",
      "\n",
      "   tBodyAcc-std()-Y  tBodyAcc-std()-Z  tBodyAcc-mad()-X  tBodyAcc-mad()-Y  \\\n",
      "0         -0.983111         -0.913526         -0.995112         -0.983185   \n",
      "1         -0.975300         -0.960322         -0.998807         -0.974914   \n",
      "2         -0.967187         -0.978944         -0.996520         -0.963668   \n",
      "3         -0.983403         -0.990675         -0.997099         -0.982750   \n",
      "4         -0.980817         -0.990482         -0.998321         -0.979672   \n",
      "\n",
      "   tBodyAcc-mad()-Z  tBodyAcc-max()-X     ...      \\\n",
      "0         -0.923527         -0.934724     ...       \n",
      "1         -0.957686         -0.943068     ...       \n",
      "2         -0.977469         -0.938692     ...       \n",
      "3         -0.989302         -0.938692     ...       \n",
      "4         -0.990441         -0.942469     ...       \n",
      "\n",
      "   fBodyBodyGyroJerkMag-kurtosis()  angle(tBodyAccMean,gravity)  \\\n",
      "0                        -0.710304                    -0.112754   \n",
      "1                        -0.861499                     0.053477   \n",
      "2                        -0.760104                    -0.118559   \n",
      "3                        -0.482845                    -0.036788   \n",
      "4                        -0.699205                     0.123320   \n",
      "\n",
      "   angle(tBodyAccJerkMean),gravityMean)  angle(tBodyGyroMean,gravityMean)  \\\n",
      "0                              0.030400                         -0.464761   \n",
      "1                             -0.007435                         -0.732626   \n",
      "2                              0.177899                          0.100699   \n",
      "3                             -0.012892                          0.640011   \n",
      "4                              0.122542                          0.693578   \n",
      "\n",
      "   angle(tBodyGyroJerkMean,gravityMean)  angle(X,gravityMean)  \\\n",
      "0                             -0.018446             -0.841247   \n",
      "1                              0.703511             -0.844788   \n",
      "2                              0.808529             -0.848933   \n",
      "3                             -0.485366             -0.848649   \n",
      "4                             -0.615971             -0.847865   \n",
      "\n",
      "   angle(Y,gravityMean)  angle(Z,gravityMean)  subject  activities  \n",
      "0              0.179941             -0.058627        1    STANDING  \n",
      "1              0.180289             -0.054317        1    STANDING  \n",
      "2              0.180637             -0.049118        1    STANDING  \n",
      "3              0.181935             -0.047663        1    STANDING  \n",
      "4              0.185151             -0.043892        1    STANDING  \n",
      "\n",
      "[5 rows x 563 columns]\n"
     ]
    }
   ],
   "source": [
    "print(observations.head())"
   ]
  },
  {
   "cell_type": "markdown",
   "metadata": {},
   "source": [
    "#### size and matching"
   ]
  },
  {
   "cell_type": "code",
   "execution_count": 9,
   "metadata": {},
   "outputs": [
    {
     "name": "stdout",
     "output_type": "stream",
     "text": [
      "(7352, 563)\n",
      "561\n",
      "7352\n",
      "(7352, 1)\n"
     ]
    }
   ],
   "source": [
    "print(observations.shape)\n",
    "print(features.size)\n",
    "print(len(subjects))\n",
    "print(activities.shape)"
   ]
  },
  {
   "cell_type": "markdown",
   "metadata": {},
   "source": [
    "# Statistics review\n",
    "For this section, **only** look at the **Train** data, as this is the set for the modeling.\n",
    "\n",
    "**Note:** Remember that the test data is for model validation.\n",
    "\n",
    "\n",
    "\n",
    "## Tendency measures\n",
    "To gather data about percentiles and central tendency use `observations.shape`.\n",
    "\n"
   ]
  },
  {
   "cell_type": "code",
   "execution_count": 11,
   "metadata": {},
   "outputs": [
    {
     "data": {
      "text/plain": [
       "(7352, 563)"
      ]
     },
     "execution_count": 11,
     "metadata": {},
     "output_type": "execute_result"
    }
   ],
   "source": [
    "#add code here\n",
    "observations.shape"
   ]
  },
  {
   "cell_type": "markdown",
   "metadata": {},
   "source": [
    "This dataset has all the features (561 in the features file), and all the observations (7352 corresponding to the number of rows in the activity dataset).\n",
    "\n",
    "Use `observations.describe()` to obtain the basic measurements."
   ]
  },
  {
   "cell_type": "code",
   "execution_count": 14,
   "metadata": {},
   "outputs": [
    {
     "data": {
      "text/html": [
       "<div>\n",
       "<table border=\"1\" class=\"dataframe\">\n",
       "  <thead>\n",
       "    <tr style=\"text-align: right;\">\n",
       "      <th></th>\n",
       "      <th>tBodyAcc-mean()-X</th>\n",
       "      <th>tBodyAcc-mean()-Y</th>\n",
       "      <th>tBodyAcc-mean()-Z</th>\n",
       "      <th>tBodyAcc-std()-X</th>\n",
       "      <th>tBodyAcc-std()-Y</th>\n",
       "      <th>tBodyAcc-std()-Z</th>\n",
       "      <th>tBodyAcc-mad()-X</th>\n",
       "      <th>tBodyAcc-mad()-Y</th>\n",
       "      <th>tBodyAcc-mad()-Z</th>\n",
       "      <th>tBodyAcc-max()-X</th>\n",
       "      <th>...</th>\n",
       "      <th>fBodyBodyGyroJerkMag-skewness()</th>\n",
       "      <th>fBodyBodyGyroJerkMag-kurtosis()</th>\n",
       "      <th>angle(tBodyAccMean,gravity)</th>\n",
       "      <th>angle(tBodyAccJerkMean),gravityMean)</th>\n",
       "      <th>angle(tBodyGyroMean,gravityMean)</th>\n",
       "      <th>angle(tBodyGyroJerkMean,gravityMean)</th>\n",
       "      <th>angle(X,gravityMean)</th>\n",
       "      <th>angle(Y,gravityMean)</th>\n",
       "      <th>angle(Z,gravityMean)</th>\n",
       "      <th>subject</th>\n",
       "    </tr>\n",
       "  </thead>\n",
       "  <tbody>\n",
       "    <tr>\n",
       "      <th>count</th>\n",
       "      <td>7352.000000</td>\n",
       "      <td>7352.000000</td>\n",
       "      <td>7352.000000</td>\n",
       "      <td>7352.000000</td>\n",
       "      <td>7352.000000</td>\n",
       "      <td>7352.000000</td>\n",
       "      <td>7352.000000</td>\n",
       "      <td>7352.000000</td>\n",
       "      <td>7352.000000</td>\n",
       "      <td>7352.000000</td>\n",
       "      <td>...</td>\n",
       "      <td>7352.000000</td>\n",
       "      <td>7352.000000</td>\n",
       "      <td>7352.000000</td>\n",
       "      <td>7352.000000</td>\n",
       "      <td>7352.000000</td>\n",
       "      <td>7352.000000</td>\n",
       "      <td>7352.000000</td>\n",
       "      <td>7352.000000</td>\n",
       "      <td>7352.000000</td>\n",
       "      <td>7352.000000</td>\n",
       "    </tr>\n",
       "    <tr>\n",
       "      <th>mean</th>\n",
       "      <td>0.274488</td>\n",
       "      <td>-0.017695</td>\n",
       "      <td>-0.109141</td>\n",
       "      <td>-0.605438</td>\n",
       "      <td>-0.510938</td>\n",
       "      <td>-0.604754</td>\n",
       "      <td>-0.630512</td>\n",
       "      <td>-0.526907</td>\n",
       "      <td>-0.606150</td>\n",
       "      <td>-0.468604</td>\n",
       "      <td>...</td>\n",
       "      <td>-0.307009</td>\n",
       "      <td>-0.625294</td>\n",
       "      <td>0.008684</td>\n",
       "      <td>0.002186</td>\n",
       "      <td>0.008726</td>\n",
       "      <td>-0.005981</td>\n",
       "      <td>-0.489547</td>\n",
       "      <td>0.058593</td>\n",
       "      <td>-0.056515</td>\n",
       "      <td>17.413085</td>\n",
       "    </tr>\n",
       "    <tr>\n",
       "      <th>std</th>\n",
       "      <td>0.070261</td>\n",
       "      <td>0.040811</td>\n",
       "      <td>0.056635</td>\n",
       "      <td>0.448734</td>\n",
       "      <td>0.502645</td>\n",
       "      <td>0.418687</td>\n",
       "      <td>0.424073</td>\n",
       "      <td>0.485942</td>\n",
       "      <td>0.414122</td>\n",
       "      <td>0.544547</td>\n",
       "      <td>...</td>\n",
       "      <td>0.321011</td>\n",
       "      <td>0.307584</td>\n",
       "      <td>0.336787</td>\n",
       "      <td>0.448306</td>\n",
       "      <td>0.608303</td>\n",
       "      <td>0.477975</td>\n",
       "      <td>0.511807</td>\n",
       "      <td>0.297480</td>\n",
       "      <td>0.279122</td>\n",
       "      <td>8.975143</td>\n",
       "    </tr>\n",
       "    <tr>\n",
       "      <th>min</th>\n",
       "      <td>-1.000000</td>\n",
       "      <td>-1.000000</td>\n",
       "      <td>-1.000000</td>\n",
       "      <td>-1.000000</td>\n",
       "      <td>-0.999873</td>\n",
       "      <td>-1.000000</td>\n",
       "      <td>-1.000000</td>\n",
       "      <td>-1.000000</td>\n",
       "      <td>-1.000000</td>\n",
       "      <td>-1.000000</td>\n",
       "      <td>...</td>\n",
       "      <td>-0.995357</td>\n",
       "      <td>-0.999765</td>\n",
       "      <td>-0.976580</td>\n",
       "      <td>-1.000000</td>\n",
       "      <td>-1.000000</td>\n",
       "      <td>-1.000000</td>\n",
       "      <td>-1.000000</td>\n",
       "      <td>-1.000000</td>\n",
       "      <td>-1.000000</td>\n",
       "      <td>1.000000</td>\n",
       "    </tr>\n",
       "    <tr>\n",
       "      <th>25%</th>\n",
       "      <td>0.262975</td>\n",
       "      <td>-0.024863</td>\n",
       "      <td>-0.120993</td>\n",
       "      <td>-0.992754</td>\n",
       "      <td>-0.978129</td>\n",
       "      <td>-0.980233</td>\n",
       "      <td>-0.993591</td>\n",
       "      <td>-0.978162</td>\n",
       "      <td>-0.980251</td>\n",
       "      <td>-0.936219</td>\n",
       "      <td>...</td>\n",
       "      <td>-0.542602</td>\n",
       "      <td>-0.845573</td>\n",
       "      <td>-0.121527</td>\n",
       "      <td>-0.289549</td>\n",
       "      <td>-0.482273</td>\n",
       "      <td>-0.376341</td>\n",
       "      <td>-0.812065</td>\n",
       "      <td>-0.017885</td>\n",
       "      <td>-0.143414</td>\n",
       "      <td>8.000000</td>\n",
       "    </tr>\n",
       "    <tr>\n",
       "      <th>50%</th>\n",
       "      <td>0.277193</td>\n",
       "      <td>-0.017219</td>\n",
       "      <td>-0.108676</td>\n",
       "      <td>-0.946196</td>\n",
       "      <td>-0.851897</td>\n",
       "      <td>-0.859365</td>\n",
       "      <td>-0.950709</td>\n",
       "      <td>-0.857328</td>\n",
       "      <td>-0.857143</td>\n",
       "      <td>-0.881637</td>\n",
       "      <td>...</td>\n",
       "      <td>-0.343685</td>\n",
       "      <td>-0.711692</td>\n",
       "      <td>0.009509</td>\n",
       "      <td>0.008943</td>\n",
       "      <td>0.008735</td>\n",
       "      <td>-0.000368</td>\n",
       "      <td>-0.709417</td>\n",
       "      <td>0.182071</td>\n",
       "      <td>0.003181</td>\n",
       "      <td>19.000000</td>\n",
       "    </tr>\n",
       "    <tr>\n",
       "      <th>75%</th>\n",
       "      <td>0.288461</td>\n",
       "      <td>-0.010783</td>\n",
       "      <td>-0.097794</td>\n",
       "      <td>-0.242813</td>\n",
       "      <td>-0.034231</td>\n",
       "      <td>-0.262415</td>\n",
       "      <td>-0.292680</td>\n",
       "      <td>-0.066701</td>\n",
       "      <td>-0.265671</td>\n",
       "      <td>-0.017129</td>\n",
       "      <td>...</td>\n",
       "      <td>-0.126979</td>\n",
       "      <td>-0.503878</td>\n",
       "      <td>0.150865</td>\n",
       "      <td>0.292861</td>\n",
       "      <td>0.506187</td>\n",
       "      <td>0.359368</td>\n",
       "      <td>-0.509079</td>\n",
       "      <td>0.248353</td>\n",
       "      <td>0.107659</td>\n",
       "      <td>26.000000</td>\n",
       "    </tr>\n",
       "    <tr>\n",
       "      <th>max</th>\n",
       "      <td>1.000000</td>\n",
       "      <td>1.000000</td>\n",
       "      <td>1.000000</td>\n",
       "      <td>1.000000</td>\n",
       "      <td>0.916238</td>\n",
       "      <td>1.000000</td>\n",
       "      <td>1.000000</td>\n",
       "      <td>0.967664</td>\n",
       "      <td>1.000000</td>\n",
       "      <td>1.000000</td>\n",
       "      <td>...</td>\n",
       "      <td>0.989538</td>\n",
       "      <td>0.956845</td>\n",
       "      <td>1.000000</td>\n",
       "      <td>1.000000</td>\n",
       "      <td>0.998702</td>\n",
       "      <td>0.996078</td>\n",
       "      <td>1.000000</td>\n",
       "      <td>0.478157</td>\n",
       "      <td>1.000000</td>\n",
       "      <td>30.000000</td>\n",
       "    </tr>\n",
       "  </tbody>\n",
       "</table>\n",
       "<p>8 rows × 562 columns</p>\n",
       "</div>"
      ],
      "text/plain": [
       "       tBodyAcc-mean()-X  tBodyAcc-mean()-Y  tBodyAcc-mean()-Z  \\\n",
       "count        7352.000000        7352.000000        7352.000000   \n",
       "mean            0.274488          -0.017695          -0.109141   \n",
       "std             0.070261           0.040811           0.056635   \n",
       "min            -1.000000          -1.000000          -1.000000   \n",
       "25%             0.262975          -0.024863          -0.120993   \n",
       "50%             0.277193          -0.017219          -0.108676   \n",
       "75%             0.288461          -0.010783          -0.097794   \n",
       "max             1.000000           1.000000           1.000000   \n",
       "\n",
       "       tBodyAcc-std()-X  tBodyAcc-std()-Y  tBodyAcc-std()-Z  tBodyAcc-mad()-X  \\\n",
       "count       7352.000000       7352.000000       7352.000000       7352.000000   \n",
       "mean          -0.605438         -0.510938         -0.604754         -0.630512   \n",
       "std            0.448734          0.502645          0.418687          0.424073   \n",
       "min           -1.000000         -0.999873         -1.000000         -1.000000   \n",
       "25%           -0.992754         -0.978129         -0.980233         -0.993591   \n",
       "50%           -0.946196         -0.851897         -0.859365         -0.950709   \n",
       "75%           -0.242813         -0.034231         -0.262415         -0.292680   \n",
       "max            1.000000          0.916238          1.000000          1.000000   \n",
       "\n",
       "       tBodyAcc-mad()-Y  tBodyAcc-mad()-Z  tBodyAcc-max()-X     ...       \\\n",
       "count       7352.000000       7352.000000       7352.000000     ...        \n",
       "mean          -0.526907         -0.606150         -0.468604     ...        \n",
       "std            0.485942          0.414122          0.544547     ...        \n",
       "min           -1.000000         -1.000000         -1.000000     ...        \n",
       "25%           -0.978162         -0.980251         -0.936219     ...        \n",
       "50%           -0.857328         -0.857143         -0.881637     ...        \n",
       "75%           -0.066701         -0.265671         -0.017129     ...        \n",
       "max            0.967664          1.000000          1.000000     ...        \n",
       "\n",
       "       fBodyBodyGyroJerkMag-skewness()  fBodyBodyGyroJerkMag-kurtosis()  \\\n",
       "count                      7352.000000                      7352.000000   \n",
       "mean                         -0.307009                        -0.625294   \n",
       "std                           0.321011                         0.307584   \n",
       "min                          -0.995357                        -0.999765   \n",
       "25%                          -0.542602                        -0.845573   \n",
       "50%                          -0.343685                        -0.711692   \n",
       "75%                          -0.126979                        -0.503878   \n",
       "max                           0.989538                         0.956845   \n",
       "\n",
       "       angle(tBodyAccMean,gravity)  angle(tBodyAccJerkMean),gravityMean)  \\\n",
       "count                  7352.000000                           7352.000000   \n",
       "mean                      0.008684                              0.002186   \n",
       "std                       0.336787                              0.448306   \n",
       "min                      -0.976580                             -1.000000   \n",
       "25%                      -0.121527                             -0.289549   \n",
       "50%                       0.009509                              0.008943   \n",
       "75%                       0.150865                              0.292861   \n",
       "max                       1.000000                              1.000000   \n",
       "\n",
       "       angle(tBodyGyroMean,gravityMean)  angle(tBodyGyroJerkMean,gravityMean)  \\\n",
       "count                       7352.000000                           7352.000000   \n",
       "mean                           0.008726                             -0.005981   \n",
       "std                            0.608303                              0.477975   \n",
       "min                           -1.000000                             -1.000000   \n",
       "25%                           -0.482273                             -0.376341   \n",
       "50%                            0.008735                             -0.000368   \n",
       "75%                            0.506187                              0.359368   \n",
       "max                            0.998702                              0.996078   \n",
       "\n",
       "       angle(X,gravityMean)  angle(Y,gravityMean)  angle(Z,gravityMean)  \\\n",
       "count           7352.000000           7352.000000           7352.000000   \n",
       "mean              -0.489547              0.058593             -0.056515   \n",
       "std                0.511807              0.297480              0.279122   \n",
       "min               -1.000000             -1.000000             -1.000000   \n",
       "25%               -0.812065             -0.017885             -0.143414   \n",
       "50%               -0.709417              0.182071              0.003181   \n",
       "75%               -0.509079              0.248353              0.107659   \n",
       "max                1.000000              0.478157              1.000000   \n",
       "\n",
       "           subject  \n",
       "count  7352.000000  \n",
       "mean     17.413085  \n",
       "std       8.975143  \n",
       "min       1.000000  \n",
       "25%       8.000000  \n",
       "50%      19.000000  \n",
       "75%      26.000000  \n",
       "max      30.000000  \n",
       "\n",
       "[8 rows x 562 columns]"
      ]
     },
     "execution_count": 14,
     "metadata": {},
     "output_type": "execute_result"
    }
   ],
   "source": [
    "#add code here\n",
    "observations.describe()"
   ]
  },
  {
   "cell_type": "markdown",
   "metadata": {},
   "source": [
    "You can confirm two important things:\n",
    "- You are aggregating already aggregated columns (e.g. you are looking at means of means).\n",
    "- You have too much data and there does not seem to be something evidently useful.\n",
    "\n",
    "By comparing for example at the `tBodyAcc-mean()-Z` and `tBodyAcc-max()-Z` you can see that there is a measure of more variation and a wider range.\n"
   ]
  },
  {
   "cell_type": "markdown",
   "metadata": {},
   "source": [
    "## Barplots and Histograms\n",
    "\n",
    "Since **activities** is what you are trying to predict and understand, see how much representation for each of them is in the dataset, as it may affect the model if there is too much bias.\n",
    "\n",
    "### Barplots\n",
    "Create a barplot with the count of occurrences for each activity. The easiest way to solve this is by calling the activity column with `activities.activity`, applying `.value_counts()` and plotting with `.plot(kind='bar')`.\n"
   ]
  },
  {
   "cell_type": "code",
   "execution_count": 15,
   "metadata": {},
   "outputs": [
    {
     "name": "stdout",
     "output_type": "stream",
     "text": [
      "LAYING                1407\n",
      "STANDING              1374\n",
      "SITTING               1286\n",
      "WALKING               1226\n",
      "WALKING_UPSTAIRS      1073\n",
      "WALKING_DOWNSTAIRS     986\n",
      "Name: activity, dtype: int64\n"
     ]
    },
    {
     "data": {
      "text/plain": [
       "<matplotlib.axes._subplots.AxesSubplot at 0x7f8773da6c50>"
      ]
     },
     "execution_count": 15,
     "metadata": {},
     "output_type": "execute_result"
    },
    {
     "data": {
      "image/png": "[encoded data removed]",
      "text/plain": [
       "<matplotlib.figure.Figure at 0x7f87ac485eb8>"
      ]
     },
     "metadata": {},
     "output_type": "display_data"
    }
   ],
   "source": [
    "print(activities.activity.value_counts())\n",
    "activities.activity.value_counts().plot(kind='bar')"
   ]
  },
  {
   "cell_type": "markdown",
   "metadata": {},
   "source": [
    "Now, make the same for the `subjects` data (which is a list).\n",
    "\n",
    "Keep in mind that `value_counts` only works with Pandas series. Use `pd.Series(subjects)` to convert it into that."
   ]
  },
  {
   "cell_type": "code",
   "execution_count": 16,
   "metadata": {},
   "outputs": [
    {
     "data": {
      "text/plain": [
       "0        1\n",
       "1        1\n",
       "2        1\n",
       "3        1\n",
       "4        1\n",
       "5        1\n",
       "6        1\n",
       "7        1\n",
       "8        1\n",
       "9        1\n",
       "10       1\n",
       "11       1\n",
       "12       1\n",
       "13       1\n",
       "14       1\n",
       "15       1\n",
       "16       1\n",
       "17       1\n",
       "18       1\n",
       "19       1\n",
       "20       1\n",
       "21       1\n",
       "22       1\n",
       "23       1\n",
       "24       1\n",
       "25       1\n",
       "26       1\n",
       "27       1\n",
       "28       1\n",
       "29       1\n",
       "        ..\n",
       "7322    30\n",
       "7323    30\n",
       "7324    30\n",
       "7325    30\n",
       "7326    30\n",
       "7327    30\n",
       "7328    30\n",
       "7329    30\n",
       "7330    30\n",
       "7331    30\n",
       "7332    30\n",
       "7333    30\n",
       "7334    30\n",
       "7335    30\n",
       "7336    30\n",
       "7337    30\n",
       "7338    30\n",
       "7339    30\n",
       "7340    30\n",
       "7341    30\n",
       "7342    30\n",
       "7343    30\n",
       "7344    30\n",
       "7345    30\n",
       "7346    30\n",
       "7347    30\n",
       "7348    30\n",
       "7349    30\n",
       "7350    30\n",
       "7351    30\n",
       "dtype: int64"
      ]
     },
     "execution_count": 16,
     "metadata": {},
     "output_type": "execute_result"
    }
   ],
   "source": [
    "#add code here\n",
    "pd.Series(subjects)"
   ]
  },
  {
   "cell_type": "markdown",
   "metadata": {},
   "source": [
    "### Histogram\n",
    "Reduce the dataset to the total body acceleration columns, since they are the ones having differences in their distribution.\n"
   ]
  },
  {
   "cell_type": "code",
   "execution_count": 22,
   "metadata": {},
   "outputs": [],
   "source": [
    "estimated = 'tBodyAcc'\n",
    "meanfeatures = np.array([feature for feature in features if estimated in feature ])\n",
    "meanfeatures = np.append(meanfeatures,['activities','subject'])\n",
    "observed_feature = observations[meanfeatures]\n",
    "subsetuser = observed_feature[observed_feature['subject']==1]"
   ]
  },
  {
   "cell_type": "markdown",
   "metadata": {},
   "source": [
    "Now you have plotted a histogram with the mean total body acceleration on the **Z** axis for all our subjects. Remember, it is expected for it it to have a variation.\n"
   ]
  },
  {
   "cell_type": "code",
   "execution_count": 27,
   "metadata": {},
   "outputs": [
    {
     "data": {
      "image/png": "[encoded data removed]",
      "text/plain": [
       "<matplotlib.figure.Figure at 0x7f8771d605c0>"
      ]
     },
     "metadata": {},
     "output_type": "display_data"
    }
   ],
   "source": [
    "feature = 'tBodyAcc-mean()-Z'\n",
    "mean_series_to_plot = observed_feature[feature]\n",
    "eda_functions.hist_plot(mean_series_to_plot, feature, 100, True)"
   ]
  },
  {
   "cell_type": "markdown",
   "metadata": {},
   "source": [
    "Now replicate the code for the maximum total body acceleration `tBodyAcc-max()-Z`."
   ]
  },
  {
   "cell_type": "code",
   "execution_count": 32,
   "metadata": {},
   "outputs": [
    {
     "data": {
      "image/png": "[encoded data removed]",
      "text/plain": [
       "<matplotlib.figure.Figure at 0x7f8771f8dd68>"
      ]
     },
     "metadata": {},
     "output_type": "display_data"
    }
   ],
   "source": [
    "feature = 'tBodyAcc-max()-Z'\n",
    "max_series_to_plot = observed_feature[feature]\n",
    "#add code here\n",
    "eda_functions.hist_plot(max_series_to_plot, feature, 100, True)\n"
   ]
  },
  {
   "cell_type": "markdown",
   "metadata": {},
   "source": [
    "Now, take a look at only one subject so that you can understand with one example what is going on. For this, use the `subsetuser` dataframe, which containes only the first subject (i.e. `observed_feature[observed_feature['subject']==1]`), and replicate the previous code; first with the mean then with the max values.\n",
    "\n",
    "**Note:** to change the subject go to the code cell right below the histogram subtitle and change the number id in the corresponding line."
   ]
  },
  {
   "cell_type": "code",
   "execution_count": 30,
   "metadata": {},
   "outputs": [
    {
     "data": {
      "image/png": "[encoded data removed]",
      "text/plain": [
       "<matplotlib.figure.Figure at 0x7f8771ea3240>"
      ]
     },
     "metadata": {},
     "output_type": "display_data"
    }
   ],
   "source": [
    "feature = 'tBodyAcc-mean()-Z'\n",
    "user_mean_series_to_plot = subsetuser[feature]\n",
    "#add code here\n",
    "eda_functions.hist_plot(user_mean_series_to_plot, feature, 100, True)"
   ]
  },
  {
   "cell_type": "markdown",
   "metadata": {},
   "source": [
    "With this, you can see that the mean differs, so there is variability between people.\n",
    "\n",
    "You could argue that this may be because someone spent a longer time doing one activity rather than another. To test this, let’s use the `tBodyAcc-max()-Z` and look at when the subject is walking."
   ]
  },
  {
   "cell_type": "code",
   "execution_count": 31,
   "metadata": {},
   "outputs": [
    {
     "data": {
      "image/png": "[encoded data removed]",
      "text/plain": [
       "<matplotlib.figure.Figure at 0x7f8771fb1ac8>"
      ]
     },
     "metadata": {},
     "output_type": "display_data"
    }
   ],
   "source": [
    "feature = 'tBodyAcc-max()-Z'\n",
    "walking_user_max_series_to_plot = subsetuser.loc[subsetuser['activities']=='WALKING',feature]\n",
    "#add code here\n",
    "eda_functions.hist_plot(walking_user_max_series_to_plot, feature, 100, True)"
   ]
  },
  {
   "cell_type": "markdown",
   "metadata": {},
   "source": [
    "Now see what happens when he is sitting."
   ]
  },
  {
   "cell_type": "code",
   "execution_count": 33,
   "metadata": {},
   "outputs": [
    {
     "data": {
      "text/plain": [
       "<matplotlib.figure.Figure at 0x7f8772197a90>"
      ]
     },
     "metadata": {},
     "output_type": "display_data"
    },
    {
     "data": {
      "image/png": "[encoded data removed]",
      "text/plain": [
       "<matplotlib.figure.Figure at 0x7f8772197438>"
      ]
     },
     "metadata": {},
     "output_type": "display_data"
    }
   ],
   "source": [
    "plt.figure()\n",
    "feature = 'tBodyAcc-max()-Z'\n",
    "sitting_user_max_series_to_plot = subsetuser.loc[subsetuser['activities']=='SITTING',feature]\n",
    "#add code here\n",
    "eda_functions.hist_plot(sitting_user_max_series_to_plot, feature, 100, True)"
   ]
  },
  {
   "cell_type": "markdown",
   "metadata": {},
   "source": [
    "You now know that there is variability.\n",
    "- **Activity variability:** There seem to be some features that will give information to identify each activity.\n",
    "- **User variability:** This seems to introduce some noise. Since, as a Data Scientist, you should go from simple to more elaborate solutions, you will now only look at one user for our analysis until you are satisfied this has been enough.\n",
    "\n"
   ]
  },
  {
   "cell_type": "markdown",
   "metadata": {},
   "source": [
    "If you start talking about its implementation, you may be implying that you want to create one model per user instead of generalizing how any human being may perform each activity (In this scenario, the arrival of a new user, for whom there is no information to build their model). This is formally known as the **cold start** problem.\n",
    "\n",
    "\n",
    "For now, don’t worry about that problem. You are still understanding the data and its behaviors and you are not sure we can generate something out of it. Keep it simple."
   ]
  },
  {
   "cell_type": "markdown",
   "metadata": {},
   "source": [
    "### Quantiles and boxplots\n",
    "\n",
    "Look from a different view the same data and you might get a better idea of what is the main identifier.\n",
    "\n",
    "Boxplots are another way to visualize a variable’s distribution, making really evident the interquartile range, the presence of outliers, and the median.\n",
    "\n",
    "The mean total body acceleration for the **Z** axis is already plotted for you to see.\n"
   ]
  },
  {
   "cell_type": "code",
   "execution_count": 35,
   "metadata": {},
   "outputs": [
    {
     "data": {
      "text/plain": [
       "{'boxes': [<matplotlib.lines.Line2D at 0x7f8771d12cc0>],\n",
       " 'caps': [<matplotlib.lines.Line2D at 0x7f8771d37908>,\n",
       "  <matplotlib.lines.Line2D at 0x7f8771d140b8>],\n",
       " 'fliers': [],\n",
       " 'means': [],\n",
       " 'medians': [<matplotlib.lines.Line2D at 0x7f8771d14d30>],\n",
       " 'whiskers': [<matplotlib.lines.Line2D at 0x7f8771d127f0>,\n",
       "  <matplotlib.lines.Line2D at 0x7f8771d12470>]}"
      ]
     },
     "execution_count": 35,
     "metadata": {},
     "output_type": "execute_result"
    },
    {
     "data": {
      "image/png": "[encoded data removed]",
      "text/plain": [
       "<matplotlib.figure.Figure at 0x7f87719d3908>"
      ]
     },
     "metadata": {},
     "output_type": "display_data"
    }
   ],
   "source": [
    "plt.boxplot(observed_feature['tBodyAcc-mean()-Z'], showfliers=False)\n"
   ]
  },
  {
   "cell_type": "markdown",
   "metadata": {},
   "source": [
    "\n",
    "Replicate the code for the maximum values on axis **Z** (`tBodyAcc-max()-Z`).\n"
   ]
  },
  {
   "cell_type": "code",
   "execution_count": 36,
   "metadata": {},
   "outputs": [
    {
     "data": {
      "text/plain": [
       "{'boxes': [<matplotlib.lines.Line2D at 0x7f8771be0320>],\n",
       " 'caps': [<matplotlib.lines.Line2D at 0x7f8771bdf400>,\n",
       "  <matplotlib.lines.Line2D at 0x7f8771bdf7f0>],\n",
       " 'fliers': [],\n",
       " 'means': [],\n",
       " 'medians': [<matplotlib.lines.Line2D at 0x7f8771dbaef0>],\n",
       " 'whiskers': [<matplotlib.lines.Line2D at 0x7f8771be0390>,\n",
       "  <matplotlib.lines.Line2D at 0x7f8771be07b8>]}"
      ]
     },
     "execution_count": 36,
     "metadata": {},
     "output_type": "execute_result"
    },
    {
     "data": {
      "image/png": "[encoded data removed]",
      "text/plain": [
       "<matplotlib.figure.Figure at 0x7f8771d60ef0>"
      ]
     },
     "metadata": {},
     "output_type": "display_data"
    }
   ],
   "source": [
    "#add code here\n",
    "plt.boxplot(observed_feature['tBodyAcc-max()-Z'], showfliers=False)\n"
   ]
  },
  {
   "cell_type": "markdown",
   "metadata": {},
   "source": [
    "### Scatterplot\n",
    "\n",
    "So far, you have looked at one-dimensional analysis, and this has already shed interesting insights into the data. Nevertheless, you have plenty of data and you want to see their interactions. A scatterplot is a bidimensional tool and is useful for understanding correlations and data capacity, among other things.\n",
    "\n",
    "Since you have a lot of data, instead of plotting one combination of values, you can use the `scatter_matrix` function from the `Pandas` plotting tools. This is useful because it gives you the density plot in the diagonal. All you need to know about it is that it is some sort of histogram smoothing.\n",
    "\n",
    "**Note:** In reality it to obtain this diagonal the code performs a *kernel density estimation*, which starts making inferences about the data which we do not want to formalize during the exploratory data analysis, so it will not be delved into.\n",
    "\n",
    "\n",
    "The `scatter_matrix_plot()` simplifies the plotting of all 3 axes of any variable. Use it to look at the the static activities' scatter plot.\n"
   ]
  },
  {
   "cell_type": "code",
   "execution_count": 37,
   "metadata": {},
   "outputs": [
    {
     "data": {
      "image/png": "[encoded data removed]",
      "text/plain": [
       "<matplotlib.figure.Figure at 0x7f8772197c88>"
      ]
     },
     "metadata": {},
     "output_type": "display_data"
    }
   ],
   "source": [
    "eda_functions.scattermatrixplot(subsetuser,'activities',['SITTING','STANDING','LAYING'],'tBodyAcc-max()')"
   ]
  },
  {
   "cell_type": "markdown",
   "metadata": {},
   "source": [
    "There is no evident correlation in the total body acceleration for the *static activities* since the person is not moving. You may explain the outliers or most of the changes with the breathing movement or other sources of *noise*.\n",
    "\n",
    "Now plot the dynamic activities 'WALKING', 'WALKING_UPSTAIRS' and 'WALKING_DOWNSTAIRS' to compare and contrast."
   ]
  },
  {
   "cell_type": "code",
   "execution_count": 38,
   "metadata": {},
   "outputs": [
    {
     "data": {
      "image/png": "[encoded data removed]",
      "text/plain": [
       "<matplotlib.figure.Figure at 0x7f8771d60dd8>"
      ]
     },
     "metadata": {},
     "output_type": "display_data"
    }
   ],
   "source": [
    "#add code here\n",
    "eda_functions.scattermatrixplot(subsetuser,'activities',['WALKING','WALKING_UPSTAIRS','WALKING_DOWNSTAIRS'],'tBodyAcc-max()')"
   ]
  },
  {
   "cell_type": "markdown",
   "metadata": {},
   "source": [
    "You may play more with the data and scatterplot you desire to generate here."
   ]
  },
  {
   "cell_type": "code",
   "execution_count": 40,
   "metadata": {
    "scrolled": true
   },
   "outputs": [
    {
     "data": {
      "image/png": "[encoded data removed]",
      "text/plain": [
       "<matplotlib.figure.Figure at 0x7f8767690240>"
      ]
     },
     "metadata": {},
     "output_type": "display_data"
    }
   ],
   "source": [
    "#add code here\n",
    "eda_functions.scattermatrixplot(subsetuser,'activities',['RUNNING','CYCLING','WALKING_DOWNSTAIRS'],'tBodyAcc-max()')"
   ]
  },
  {
   "cell_type": "markdown",
   "metadata": {},
   "source": [
    "## Summary\n",
    "What the developers described is data that might be useful in creating a dashboard. You found that some features in the data might help classify both active and resting activities.\n"
   ]
  },
  {
   "cell_type": "markdown",
   "metadata": {},
   "source": [
    "# Conclusion\n",
    "\n",
    "Jupyter python is a platform that allow us to code information with python for a better data management. Throught this homework we experience how we can extract important information from data, how to visualize it and how to contrast if for better undestanding of this data. Scatter plot is useful to contrast 2 or more variable one to another. Bar plot is helpful when trying to convey the count of diferent attributes. Boxplots are informative when we need to briefly identify the deviation of a data column."
   ]
  }
 ],
 "metadata": {
  "kernelspec": {
   "display_name": "Python 3",
   "language": "python",
   "name": "python3"
  },
  "language_info": {
   "codemirror_mode": {
    "name": "ipython",
    "version": 3
   },
   "file_extension": ".py",
   "mimetype": "text/x-python",
   "name": "python",
   "nbconvert_exporter": "python",
   "pygments_lexer": "ipython3",
   "version": "3.6.3"
  }
 },
 "nbformat": 4,
 "nbformat_minor": 1
}
